{
 "cells": [
  {
   "cell_type": "markdown",
   "metadata": {},
   "source": [
    "# Detecção facial (video) usando OpenCV\n",
    "#### Utilizando um modelo de deep learning pré treinado do OpenCV\n",
    "Parâmetros importantes para utilizar a rede pré treinada:\n",
    "- .prototxt: arquiteura do modelo\n",
    "- .caffemodel: peso das camadas do modelo\n"
   ]
  },
  {
   "cell_type": "code",
   "execution_count": 1,
   "metadata": {},
   "outputs": [],
   "source": [
    "from imutils.video import VideoStream\n",
    "import numpy as np\n",
    "import imutils\n",
    "import time\n",
    "import cv2 "
   ]
  },
  {
   "cell_type": "markdown",
   "metadata": {},
   "source": [
    "1. Importando arquitetura e pesos do modelo"
   ]
  },
  {
   "cell_type": "code",
   "execution_count": 2,
   "metadata": {},
   "outputs": [],
   "source": [
    "loc_caffemodel = \"./import-opencv/res10_300x300_ssd_iter_140000.caffemodel\"\n",
    "loc_prototxt = \"./import-opencv/deploy.prototxt.txt\""
   ]
  },
  {
   "cell_type": "markdown",
   "metadata": {},
   "source": [
    "1.1. Carregando modelo e imagem do disco"
   ]
  },
  {
   "cell_type": "code",
   "execution_count": 3,
   "metadata": {},
   "outputs": [],
   "source": [
    "# Carregando modelo do disco na variável net\n",
    "net = cv2.dnn.readNetFromCaffe(loc_prototxt, loc_caffemodel)"
   ]
  },
  {
   "cell_type": "markdown",
   "metadata": {},
   "source": [
    "1.2. Inicialize o fluxo de vídeo e permita que o sensor da câmera aqueça\n"
   ]
  },
  {
   "cell_type": "code",
   "execution_count": 8,
   "metadata": {},
   "outputs": [],
   "source": [
    "vs = VideoStream(src=2).start()\n",
    "time.sleep(2.0)"
   ]
  },
  {
   "cell_type": "markdown",
   "metadata": {},
   "source": [
    "1.3. Loop"
   ]
  },
  {
   "cell_type": "code",
   "execution_count": 9,
   "metadata": {},
   "outputs": [],
   "source": [
    "# Loop sobre cada frame\n",
    "while True:\n",
    "    # Pega o frame e redimenciona com width de 400 pixels\n",
    "    frame = vs.read()\n",
    "    frame = imutils.resize(frame, width=1000)\n",
    "    \n",
    "    # Pegue as dimensões do quadro e converta-o em um blob\n",
    "    (h, w) = frame.shape[:2]\n",
    "    blob = cv2.dnn.blobFromImage(cv2.resize(frame, (300, 300)), 1.0, (300, 300), (104.0, 177.0, 123.0))\n",
    "    \n",
    "    # passe o blob pela rede e obtenha as predições de detecções\n",
    "    net.setInput(blob)\n",
    "    detections = net.forward()\n",
    "    \n",
    "    # loop sobre as detecções\n",
    "    for i in range(0, detections.shape[2]):\n",
    "        # extrair a confiança (isto é, a probabilidade) associada ao predição\n",
    "        confidence = detections[0, 0, i, 2]\n",
    "\n",
    "        # filtrar as detecções fracas assegurando que a 'confiança' é maior que a confiança mínima\n",
    "        if confidence > 0.5:\n",
    "            # Calcula as coordenadas (x, y) da caixa demilitadora para o objeto\n",
    "            box = detections[0, 0, i, 3:7] * np.array([w, h, w, h])\n",
    "            (startX, startY, endX, endY) = box.astype(\"int\")\n",
    "\n",
    "            # desenhe a caixa delimitadora do rosto juntamente com o probabilidade\n",
    "            text = \"{:.2f}%\".format(confidence * 100)\n",
    "            y = startY - 10 if startY - 10 > 10 else startY + 10\n",
    "            cv2.rectangle(frame, (startX, startY), (endX, endY), (0, 0, 255), 2)\n",
    "            cv2.putText(frame, text, (startX, y), cv2.FONT_HERSHEY_SIMPLEX, 0.45, (0, 0, 255), 2)\n",
    "\n",
    "    # mostrar o frame de saida\n",
    "    cv2.imshow(\"Frame\", frame)\n",
    "    key = cv2.waitKey(1) & 0xFF\n",
    " \n",
    "    # para o loop quando digita 'q'\n",
    "    if key == ord(\"q\"):\n",
    "        break\n",
    " \n",
    "# limpeza\n",
    "cv2.destroyAllWindows()\n",
    "vs.stop()\n",
    "vs.stream.release()"
   ]
  },
  {
   "cell_type": "code",
   "execution_count": null,
   "metadata": {},
   "outputs": [],
   "source": []
  }
 ],
 "metadata": {
  "kernelspec": {
   "display_name": "Python 3",
   "language": "python",
   "name": "python3"
  },
  "language_info": {
   "codemirror_mode": {
    "name": "ipython",
    "version": 3
   },
   "file_extension": ".py",
   "mimetype": "text/x-python",
   "name": "python",
   "nbconvert_exporter": "python",
   "pygments_lexer": "ipython3",
   "version": "3.7.4"
  }
 },
 "nbformat": 4,
 "nbformat_minor": 2
}
